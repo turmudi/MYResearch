{
  "cells": [
    {
      "cell_type": "markdown",
      "metadata": {
        "id": "sZOVOvqvsVh5"
      },
      "source": [
        "#Load and Inspect the Dataset"
      ]
    },
    {
      "cell_type": "code",
      "execution_count": null,
      "metadata": {
        "colab": {
          "base_uri": "https://localhost:8080/"
        },
        "id": "Lvpuy-FasYFd",
        "outputId": "94d6a0f5-2fad-46b2-ba29-e7d64f2cb5ce"
      },
      "outputs": [
        {
          "output_type": "stream",
          "name": "stdout",
          "text": [
            "Mounted at /content/gdrive\n"
          ]
        }
      ],
      "source": [
        "from google.colab import drive\n",
        "drive.mount('/content/gdrive')"
      ]
    },
    {
      "cell_type": "markdown",
      "source": [
        "#Dataset Information\n",
        "https://www.kaggle.com/datasets/dhoogla/unswnb15/data"
      ],
      "metadata": {
        "id": "ZD459Axfm5lk"
      }
    },
    {
      "cell_type": "code",
      "execution_count": null,
      "metadata": {
        "id": "K5KuMzm2sBig",
        "colab": {
          "base_uri": "https://localhost:8080/"
        },
        "outputId": "25f01dbb-2c76-4761-b9b5-180bf7f39b79"
      },
      "outputs": [
        {
          "output_type": "stream",
          "name": "stdout",
          "text": [
            "   id       dur proto service state  spkts  dpkts  sbytes  dbytes       rate  \\\n",
            "0   1  0.121478   tcp       -   FIN      6      4     258     172  74.087490   \n",
            "1   2  0.649902   tcp       -   FIN     14     38     734   42014  78.473372   \n",
            "2   3  1.623129   tcp       -   FIN      8     16     364   13186  14.170161   \n",
            "3   4  1.681642   tcp     ftp   FIN     12     12     628     770  13.677108   \n",
            "4   5  0.449454   tcp       -   FIN     10      6     534     268  33.373826   \n",
            "\n",
            "   ...  ct_dst_sport_ltm  ct_dst_src_ltm  is_ftp_login  ct_ftp_cmd  \\\n",
            "0  ...                 1               1             0           0   \n",
            "1  ...                 1               2             0           0   \n",
            "2  ...                 1               3             0           0   \n",
            "3  ...                 1               3             1           1   \n",
            "4  ...                 1              40             0           0   \n",
            "\n",
            "   ct_flw_http_mthd  ct_src_ltm  ct_srv_dst  is_sm_ips_ports  attack_cat  \\\n",
            "0                 0           1           1                0      Normal   \n",
            "1                 0           1           6                0      Normal   \n",
            "2                 0           2           6                0      Normal   \n",
            "3                 0           2           1                0      Normal   \n",
            "4                 0           2          39                0      Normal   \n",
            "\n",
            "   label  \n",
            "0      0  \n",
            "1      0  \n",
            "2      0  \n",
            "3      0  \n",
            "4      0  \n",
            "\n",
            "[5 rows x 45 columns]\n",
            "id                     int64\n",
            "dur                  float64\n",
            "proto                 object\n",
            "service               object\n",
            "state                 object\n",
            "spkts                  int64\n",
            "dpkts                  int64\n",
            "sbytes                 int64\n",
            "dbytes                 int64\n",
            "rate                 float64\n",
            "sttl                   int64\n",
            "dttl                   int64\n",
            "sload                float64\n",
            "dload                float64\n",
            "sloss                  int64\n",
            "dloss                  int64\n",
            "sinpkt               float64\n",
            "dinpkt               float64\n",
            "sjit                 float64\n",
            "djit                 float64\n",
            "swin                   int64\n",
            "stcpb                  int64\n",
            "dtcpb                  int64\n",
            "dwin                   int64\n",
            "tcprtt               float64\n",
            "synack               float64\n",
            "ackdat               float64\n",
            "smean                  int64\n",
            "dmean                  int64\n",
            "trans_depth            int64\n",
            "response_body_len      int64\n",
            "ct_srv_src             int64\n",
            "ct_state_ttl           int64\n",
            "ct_dst_ltm             int64\n",
            "ct_src_dport_ltm       int64\n",
            "ct_dst_sport_ltm       int64\n",
            "ct_dst_src_ltm         int64\n",
            "is_ftp_login           int64\n",
            "ct_ftp_cmd             int64\n",
            "ct_flw_http_mthd       int64\n",
            "ct_src_ltm             int64\n",
            "ct_srv_dst             int64\n",
            "is_sm_ips_ports        int64\n",
            "attack_cat            object\n",
            "label                  int64\n",
            "dtype: object\n"
          ]
        }
      ],
      "source": [
        "import pandas as pd\n",
        "\n",
        "# Load the dataset\n",
        "url = \"/content/gdrive/MyDrive/UPB/2023-2024 Genap/B Penelitian/Brute Force Mitigation/UNSW_NB15_training-set.csv\"\n",
        "data = pd.read_csv(url)\n",
        "\n",
        "# Display the first few rows of the dataset\n",
        "print(data.head())\n",
        "\n",
        "# Check data types of each column\n",
        "print(data.dtypes)\n"
      ]
    },
    {
      "cell_type": "markdown",
      "metadata": {
        "id": "Ds_hALunsz4u"
      },
      "source": [
        "#Encode Categorical Features"
      ]
    },
    {
      "cell_type": "code",
      "execution_count": null,
      "metadata": {
        "id": "O_wFtI0us1z0",
        "colab": {
          "base_uri": "https://localhost:8080/"
        },
        "outputId": "b0167f7b-f25e-4236-971e-fa1ee05d0b38"
      },
      "outputs": [
        {
          "output_type": "stream",
          "name": "stdout",
          "text": [
            "id                     int64\n",
            "dur                  float64\n",
            "proto                  int64\n",
            "service                int64\n",
            "state                  int64\n",
            "spkts                  int64\n",
            "dpkts                  int64\n",
            "sbytes                 int64\n",
            "dbytes                 int64\n",
            "rate                 float64\n",
            "sttl                   int64\n",
            "dttl                   int64\n",
            "sload                float64\n",
            "dload                float64\n",
            "sloss                  int64\n",
            "dloss                  int64\n",
            "sinpkt               float64\n",
            "dinpkt               float64\n",
            "sjit                 float64\n",
            "djit                 float64\n",
            "swin                   int64\n",
            "stcpb                  int64\n",
            "dtcpb                  int64\n",
            "dwin                   int64\n",
            "tcprtt               float64\n",
            "synack               float64\n",
            "ackdat               float64\n",
            "smean                  int64\n",
            "dmean                  int64\n",
            "trans_depth            int64\n",
            "response_body_len      int64\n",
            "ct_srv_src             int64\n",
            "ct_state_ttl           int64\n",
            "ct_dst_ltm             int64\n",
            "ct_src_dport_ltm       int64\n",
            "ct_dst_sport_ltm       int64\n",
            "ct_dst_src_ltm         int64\n",
            "is_ftp_login           int64\n",
            "ct_ftp_cmd             int64\n",
            "ct_flw_http_mthd       int64\n",
            "ct_src_ltm             int64\n",
            "ct_srv_dst             int64\n",
            "is_sm_ips_ports        int64\n",
            "attack_cat            object\n",
            "label                  int64\n",
            "dtype: object\n"
          ]
        }
      ],
      "source": [
        "from sklearn.preprocessing import LabelEncoder\n",
        "\n",
        "# Encode categorical features\n",
        "categorical_features = ['proto', 'service', 'state']\n",
        "for feature in categorical_features:\n",
        "    encoder = LabelEncoder()\n",
        "    data[feature] = encoder.fit_transform(data[feature])\n",
        "\n",
        "# Ensure no other categorical data exists\n",
        "print(data.dtypes)\n"
      ]
    },
    {
      "cell_type": "markdown",
      "source": [
        "#Check for and Handle Missing Values"
      ],
      "metadata": {
        "id": "1X778BiIwt5-"
      }
    },
    {
      "cell_type": "code",
      "source": [
        "# Check for missing values\n",
        "print(data.isnull().sum())\n",
        "\n",
        "# Fill or drop missing values\n",
        "data = data.dropna()  # Alternatively, you can fill missing values with data.fillna(method='ffill') or other appropriate method\n"
      ],
      "metadata": {
        "colab": {
          "base_uri": "https://localhost:8080/"
        },
        "id": "e6P43NRgwyL5",
        "outputId": "2ac70161-a290-47e2-e26a-df77dd81b58f"
      },
      "execution_count": null,
      "outputs": [
        {
          "output_type": "stream",
          "name": "stdout",
          "text": [
            "id                   0\n",
            "dur                  0\n",
            "proto                0\n",
            "service              0\n",
            "state                0\n",
            "spkts                0\n",
            "dpkts                0\n",
            "sbytes               0\n",
            "dbytes               0\n",
            "rate                 0\n",
            "sttl                 0\n",
            "dttl                 0\n",
            "sload                0\n",
            "dload                0\n",
            "sloss                0\n",
            "dloss                0\n",
            "sinpkt               0\n",
            "dinpkt               0\n",
            "sjit                 0\n",
            "djit                 0\n",
            "swin                 0\n",
            "stcpb                0\n",
            "dtcpb                0\n",
            "dwin                 0\n",
            "tcprtt               0\n",
            "synack               0\n",
            "ackdat               0\n",
            "smean                0\n",
            "dmean                0\n",
            "trans_depth          0\n",
            "response_body_len    0\n",
            "ct_srv_src           0\n",
            "ct_state_ttl         0\n",
            "ct_dst_ltm           0\n",
            "ct_src_dport_ltm     0\n",
            "ct_dst_sport_ltm     0\n",
            "ct_dst_src_ltm       0\n",
            "is_ftp_login         0\n",
            "ct_ftp_cmd           0\n",
            "ct_flw_http_mthd     0\n",
            "ct_src_ltm           0\n",
            "ct_srv_dst           0\n",
            "is_sm_ips_ports      0\n",
            "attack_cat           0\n",
            "label                0\n",
            "dtype: int64\n"
          ]
        }
      ]
    },
    {
      "cell_type": "markdown",
      "metadata": {
        "id": "r1U1SUCxs7oK"
      },
      "source": [
        "#Split Data into Features and Target Variable"
      ]
    },
    {
      "cell_type": "code",
      "execution_count": null,
      "metadata": {
        "id": "1SSrIH6ms9dM",
        "colab": {
          "base_uri": "https://localhost:8080/"
        },
        "outputId": "efe34b9e-50a5-449a-c910-92367c978d71"
      },
      "outputs": [
        {
          "output_type": "stream",
          "name": "stdout",
          "text": [
            "id                     int64\n",
            "dur                  float64\n",
            "proto                  int64\n",
            "service                int64\n",
            "state                  int64\n",
            "spkts                  int64\n",
            "dpkts                  int64\n",
            "sbytes                 int64\n",
            "dbytes                 int64\n",
            "rate                 float64\n",
            "sttl                   int64\n",
            "dttl                   int64\n",
            "sload                float64\n",
            "dload                float64\n",
            "sloss                  int64\n",
            "dloss                  int64\n",
            "sinpkt               float64\n",
            "dinpkt               float64\n",
            "sjit                 float64\n",
            "djit                 float64\n",
            "swin                   int64\n",
            "stcpb                  int64\n",
            "dtcpb                  int64\n",
            "dwin                   int64\n",
            "tcprtt               float64\n",
            "synack               float64\n",
            "ackdat               float64\n",
            "smean                  int64\n",
            "dmean                  int64\n",
            "trans_depth            int64\n",
            "response_body_len      int64\n",
            "ct_srv_src             int64\n",
            "ct_state_ttl           int64\n",
            "ct_dst_ltm             int64\n",
            "ct_src_dport_ltm       int64\n",
            "ct_dst_sport_ltm       int64\n",
            "ct_dst_src_ltm         int64\n",
            "is_ftp_login           int64\n",
            "ct_ftp_cmd             int64\n",
            "ct_flw_http_mthd       int64\n",
            "ct_src_ltm             int64\n",
            "ct_srv_dst             int64\n",
            "is_sm_ips_ports        int64\n",
            "dtype: object\n"
          ]
        }
      ],
      "source": [
        "# Split the data into features and target variable\n",
        "X = data.drop(['label', 'attack_cat'], axis=1)  # Drop 'label' and any other non-numeric columns if they exist\n",
        "y = data['label']\n",
        "\n",
        "# Double-check the data types of X to ensure all are numeric\n",
        "print(X.dtypes)\n"
      ]
    },
    {
      "cell_type": "markdown",
      "metadata": {
        "id": "Ua8hJBsvtC5l"
      },
      "source": [
        "#Standardize the Feature Variables"
      ]
    },
    {
      "cell_type": "code",
      "execution_count": null,
      "metadata": {
        "id": "vVoSaP-WtDzj"
      },
      "outputs": [],
      "source": [
        "from sklearn.preprocessing import StandardScaler\n",
        "\n",
        "# Standardize the feature variables\n",
        "scaler = StandardScaler()\n",
        "X = scaler.fit_transform(X)\n"
      ]
    },
    {
      "cell_type": "markdown",
      "metadata": {
        "id": "tAIo3QaItMR1"
      },
      "source": [
        "#Split the Data into Training and Testing Sets"
      ]
    },
    {
      "cell_type": "code",
      "execution_count": null,
      "metadata": {
        "id": "kw3qPJNFtN5M"
      },
      "outputs": [],
      "source": [
        "from sklearn.model_selection import train_test_split\n",
        "\n",
        "# Split the data into training and testing sets\n",
        "X_train, X_test, y_train, y_test = train_test_split(X, y, test_size=0.2, random_state=42)\n"
      ]
    },
    {
      "cell_type": "markdown",
      "metadata": {
        "id": "WJCUMDJvtT7E"
      },
      "source": [
        "#Train the Random Forest Model"
      ]
    },
    {
      "cell_type": "code",
      "execution_count": null,
      "metadata": {
        "id": "sizGN5dutX8z",
        "colab": {
          "base_uri": "https://localhost:8080/",
          "height": 75
        },
        "outputId": "aed664c3-f0d9-45de-bc97-1dd92c026b10"
      },
      "outputs": [
        {
          "output_type": "execute_result",
          "data": {
            "text/plain": [
              "RandomForestClassifier(random_state=42)"
            ],
            "text/html": [
              "<style>#sk-container-id-1 {color: black;background-color: white;}#sk-container-id-1 pre{padding: 0;}#sk-container-id-1 div.sk-toggleable {background-color: white;}#sk-container-id-1 label.sk-toggleable__label {cursor: pointer;display: block;width: 100%;margin-bottom: 0;padding: 0.3em;box-sizing: border-box;text-align: center;}#sk-container-id-1 label.sk-toggleable__label-arrow:before {content: \"▸\";float: left;margin-right: 0.25em;color: #696969;}#sk-container-id-1 label.sk-toggleable__label-arrow:hover:before {color: black;}#sk-container-id-1 div.sk-estimator:hover label.sk-toggleable__label-arrow:before {color: black;}#sk-container-id-1 div.sk-toggleable__content {max-height: 0;max-width: 0;overflow: hidden;text-align: left;background-color: #f0f8ff;}#sk-container-id-1 div.sk-toggleable__content pre {margin: 0.2em;color: black;border-radius: 0.25em;background-color: #f0f8ff;}#sk-container-id-1 input.sk-toggleable__control:checked~div.sk-toggleable__content {max-height: 200px;max-width: 100%;overflow: auto;}#sk-container-id-1 input.sk-toggleable__control:checked~label.sk-toggleable__label-arrow:before {content: \"▾\";}#sk-container-id-1 div.sk-estimator input.sk-toggleable__control:checked~label.sk-toggleable__label {background-color: #d4ebff;}#sk-container-id-1 div.sk-label input.sk-toggleable__control:checked~label.sk-toggleable__label {background-color: #d4ebff;}#sk-container-id-1 input.sk-hidden--visually {border: 0;clip: rect(1px 1px 1px 1px);clip: rect(1px, 1px, 1px, 1px);height: 1px;margin: -1px;overflow: hidden;padding: 0;position: absolute;width: 1px;}#sk-container-id-1 div.sk-estimator {font-family: monospace;background-color: #f0f8ff;border: 1px dotted black;border-radius: 0.25em;box-sizing: border-box;margin-bottom: 0.5em;}#sk-container-id-1 div.sk-estimator:hover {background-color: #d4ebff;}#sk-container-id-1 div.sk-parallel-item::after {content: \"\";width: 100%;border-bottom: 1px solid gray;flex-grow: 1;}#sk-container-id-1 div.sk-label:hover label.sk-toggleable__label {background-color: #d4ebff;}#sk-container-id-1 div.sk-serial::before {content: \"\";position: absolute;border-left: 1px solid gray;box-sizing: border-box;top: 0;bottom: 0;left: 50%;z-index: 0;}#sk-container-id-1 div.sk-serial {display: flex;flex-direction: column;align-items: center;background-color: white;padding-right: 0.2em;padding-left: 0.2em;position: relative;}#sk-container-id-1 div.sk-item {position: relative;z-index: 1;}#sk-container-id-1 div.sk-parallel {display: flex;align-items: stretch;justify-content: center;background-color: white;position: relative;}#sk-container-id-1 div.sk-item::before, #sk-container-id-1 div.sk-parallel-item::before {content: \"\";position: absolute;border-left: 1px solid gray;box-sizing: border-box;top: 0;bottom: 0;left: 50%;z-index: -1;}#sk-container-id-1 div.sk-parallel-item {display: flex;flex-direction: column;z-index: 1;position: relative;background-color: white;}#sk-container-id-1 div.sk-parallel-item:first-child::after {align-self: flex-end;width: 50%;}#sk-container-id-1 div.sk-parallel-item:last-child::after {align-self: flex-start;width: 50%;}#sk-container-id-1 div.sk-parallel-item:only-child::after {width: 0;}#sk-container-id-1 div.sk-dashed-wrapped {border: 1px dashed gray;margin: 0 0.4em 0.5em 0.4em;box-sizing: border-box;padding-bottom: 0.4em;background-color: white;}#sk-container-id-1 div.sk-label label {font-family: monospace;font-weight: bold;display: inline-block;line-height: 1.2em;}#sk-container-id-1 div.sk-label-container {text-align: center;}#sk-container-id-1 div.sk-container {/* jupyter's `normalize.less` sets `[hidden] { display: none; }` but bootstrap.min.css set `[hidden] { display: none !important; }` so we also need the `!important` here to be able to override the default hidden behavior on the sphinx rendered scikit-learn.org. See: https://github.com/scikit-learn/scikit-learn/issues/21755 */display: inline-block !important;position: relative;}#sk-container-id-1 div.sk-text-repr-fallback {display: none;}</style><div id=\"sk-container-id-1\" class=\"sk-top-container\"><div class=\"sk-text-repr-fallback\"><pre>RandomForestClassifier(random_state=42)</pre><b>In a Jupyter environment, please rerun this cell to show the HTML representation or trust the notebook. <br />On GitHub, the HTML representation is unable to render, please try loading this page with nbviewer.org.</b></div><div class=\"sk-container\" hidden><div class=\"sk-item\"><div class=\"sk-estimator sk-toggleable\"><input class=\"sk-toggleable__control sk-hidden--visually\" id=\"sk-estimator-id-1\" type=\"checkbox\" checked><label for=\"sk-estimator-id-1\" class=\"sk-toggleable__label sk-toggleable__label-arrow\">RandomForestClassifier</label><div class=\"sk-toggleable__content\"><pre>RandomForestClassifier(random_state=42)</pre></div></div></div></div></div>"
            ]
          },
          "metadata": {},
          "execution_count": 17
        }
      ],
      "source": [
        "from sklearn.ensemble import RandomForestClassifier\n",
        "\n",
        "# Initialize the Random Forest model\n",
        "rf_model = RandomForestClassifier(n_estimators=100, random_state=42)\n",
        "\n",
        "# Train the model\n",
        "rf_model.fit(X_train, y_train)\n"
      ]
    },
    {
      "cell_type": "markdown",
      "metadata": {
        "id": "F-A2v5TetcQ_"
      },
      "source": [
        "#Predict and Evaluate the Model"
      ]
    },
    {
      "cell_type": "code",
      "execution_count": null,
      "metadata": {
        "id": "ilBUgRlbtbnM",
        "colab": {
          "base_uri": "https://localhost:8080/"
        },
        "outputId": "0a81e151-dcb8-4e23-fed1-8f69c2cd8a00"
      },
      "outputs": [
        {
          "output_type": "stream",
          "name": "stdout",
          "text": [
            "Accuracy: 0.9886794604921726\n",
            "Classification Report:\n",
            "               precision    recall  f1-score   support\n",
            "\n",
            "           0       0.99      0.97      0.98     11169\n",
            "           1       0.99      1.00      0.99     23900\n",
            "\n",
            "    accuracy                           0.99     35069\n",
            "   macro avg       0.99      0.98      0.99     35069\n",
            "weighted avg       0.99      0.99      0.99     35069\n",
            "\n",
            "Confusion Matrix:\n",
            " [[10827   342]\n",
            " [   55 23845]]\n"
          ]
        }
      ],
      "source": [
        "from sklearn.metrics import accuracy_score, classification_report, confusion_matrix\n",
        "\n",
        "# Predict on the test set\n",
        "y_pred = rf_model.predict(X_test)\n",
        "\n",
        "# Evaluate the model\n",
        "accuracy = accuracy_score(y_test, y_pred)\n",
        "print(\"Accuracy:\", accuracy)\n",
        "\n",
        "classification_rep = classification_report(y_test, y_pred)\n",
        "print(\"Classification Report:\\n\", classification_rep)\n",
        "\n",
        "confusion_mat = confusion_matrix(y_test, y_pred)\n",
        "print(\"Confusion Matrix:\\n\", confusion_mat)\n"
      ]
    },
    {
      "cell_type": "code",
      "source": [
        "import matplotlib.pyplot as plt\n",
        "import seaborn as sns\n",
        "\n",
        "# ... (Your existing code)\n",
        "\n",
        "# Predict and Evaluate the Model (same as before)\n",
        "# ...\n",
        "\n",
        "# Create a blue confusion matrix\n",
        "plt.figure(figsize=(8, 6))\n",
        "sns.heatmap(confusion_mat, annot=True, fmt=\"d\", cmap=\"Blues\")\n",
        "plt.xlabel('Predicted')\n",
        "plt.ylabel('Actual')\n",
        "plt.title('Confusion Matrix')\n",
        "plt.show()\n"
      ],
      "metadata": {
        "colab": {
          "base_uri": "https://localhost:8080/",
          "height": 564
        },
        "id": "NCrB8-nAzTx3",
        "outputId": "7b0cd4bf-d7e3-40fb-c05e-98561e40ddc0"
      },
      "execution_count": null,
      "outputs": [
        {
          "output_type": "display_data",
          "data": {
            "text/plain": [
              "<Figure size 800x600 with 2 Axes>"
            ],
            "image/png": "[encoded data removed]"
          },
          "metadata": {}
        }
      ]
    }
  ],
  "metadata": {
    "colab": {
      "provenance": []
    },
    "kernelspec": {
      "display_name": "Python 3",
      "name": "python3"
    },
    "language_info": {
      "name": "python"
    }
  },
  "nbformat": 4,
  "nbformat_minor": 0
}